{
 "cells": [
  {
   "cell_type": "code",
   "execution_count": 20,
   "metadata": {},
   "outputs": [],
   "source": [
    "import numpy as np\n",
    "#Dataset\n",
    "X = np.array([\n",
    "    [30,3,6],\n",
    "    [43,4,8],\n",
    "    [25,2,3],\n",
    "    [51,4,9],\n",
    "    [40,3,5],\n",
    "    [20,1,2]\n",
    "              ])\n",
    "y = np.array([2.5, 3.4, 1.8, 4.5, 3.2, 1.6],dtype=float)\n",
    "\n",
    "m = len(y)\n",
    "alpha = 0.0001"
   ]
  },
  {
   "cell_type": "code",
   "execution_count": 21,
   "metadata": {},
   "outputs": [
    {
     "name": "stdout",
     "output_type": "stream",
     "text": [
      "Iteration 1: MSE = 4.5083, theta = [0.0003 0.0109 0.0009 0.0018]\n",
      "Iteration 2: MSE = 3.3581, theta = [0.0005 0.0204 0.0017 0.0033]\n",
      "Iteration 3: MSE = 2.5022, theta = [0.0007 0.0285 0.0023 0.0047]\n",
      "Iteration 4: MSE = 1.8655, theta = [0.0009 0.0355 0.0029 0.0058]\n",
      "Iteration 10: MSE = 0.3287, theta = [0.0016 0.0614 0.005  0.0101]\n",
      "Iteration 20: MSE = 0.031, theta = [0.0019 0.0754 0.0062 0.0124]\n",
      "Iteration 30: MSE = 0.0155, theta = [0.002  0.0786 0.0064 0.013 ]\n",
      "Iteration 40: MSE = 0.0147, theta = [0.002  0.0793 0.0065 0.0132]\n",
      "Iteration 50: MSE = 0.0147, theta = [0.0019 0.0794 0.0065 0.0133]\n",
      "Iteration 60: MSE = 0.0147, theta = [0.0019 0.0795 0.0065 0.0134]\n",
      "Iteration 70: MSE = 0.0147, theta = [0.0019 0.0794 0.0065 0.0135]\n",
      "Iteration 80: MSE = 0.0147, theta = [0.0019 0.0794 0.0064 0.0136]\n",
      "Iteration 90: MSE = 0.0147, theta = [0.0018 0.0794 0.0064 0.0136]\n",
      "Iteration 100: MSE = 0.0147, theta = [0.0018 0.0794 0.0064 0.0137]\n"
     ]
    }
   ],
   "source": [
    "#Batch Gradient Descent\n",
    "theta = np.array([0,0,0,0],dtype=float)\n",
    "X_bias = np.hstack((np.ones((m,1)),X))\n",
    "\n",
    "def MSE(predictions,y):\n",
    "    return (1/(2*m)) * np.sum((predictions-y)**2)\n",
    "\n",
    "def hypothesis(X,theta):\n",
    "    return X @ theta\n",
    "\n",
    "iterations = 100\n",
    "for i in range(1,iterations+1):\n",
    "    predictions = hypothesis(X_bias,theta)\n",
    "    errors = predictions - y\n",
    "    gradient = 1/m * (errors @ X_bias)\n",
    "    theta -= alpha * gradient\n",
    "\n",
    "    if i%10==0 or i<5:\n",
    "        print(f\"Iteration {i}: MSE = {np.round(MSE(predictions,y),4)}, theta = {np.round(theta,4)}\")\n"
   ]
  },
  {
   "cell_type": "code",
   "execution_count": 22,
   "metadata": {},
   "outputs": [
    {
     "name": "stdout",
     "output_type": "stream",
     "text": [
      "Iteration 1: MSE = 0.7274, Theta = [0.0012 0.0478 0.004  0.0081]\n",
      "Iteration 10: MSE = 0.0147, Theta = [0.0019 0.0797 0.0067 0.014 ]\n",
      "Iteration 20: MSE = 0.0147, Theta = [0.0017 0.0797 0.0066 0.0145]\n",
      "Iteration 30: MSE = 0.0147, Theta = [0.0015 0.0796 0.0065 0.015 ]\n",
      "Iteration 40: MSE = 0.0146, Theta = [0.0013 0.0795 0.0064 0.0155]\n",
      "Iteration 50: MSE = 0.0146, Theta = [0.0011 0.0795 0.0063 0.016 ]\n",
      "Iteration 60: MSE = 0.0145, Theta = [0.001  0.0794 0.0062 0.0165]\n",
      "Iteration 70: MSE = 0.0145, Theta = [0.0008 0.0794 0.0061 0.017 ]\n",
      "Iteration 80: MSE = 0.0145, Theta = [0.0006 0.0793 0.0061 0.0175]\n",
      "Iteration 90: MSE = 0.0144, Theta = [0.0004 0.0792 0.006  0.0179]\n",
      "Iteration 100: MSE = 0.0144, Theta = [0.0002 0.0792 0.0059 0.0184]\n"
     ]
    }
   ],
   "source": [
    "#Stochastic - SGD\n",
    "theta = np.array([0,0,0,0],dtype=float)\n",
    "X_bias = np.hstack((np.ones((m,1)),X))\n",
    "\n",
    "def MSE(predictions,y):\n",
    "    return (1/(2*m)) * np.sum((predictions-y)**2)\n",
    "\n",
    "def hypothesis(X,theta):\n",
    "    return X @ theta\n",
    "\n",
    "iterations = 100\n",
    "for i in range(1,iterations+1):\n",
    "    for j in range(m):\n",
    "        x_j = X_bias[j,:].reshape(1,-1)\n",
    "        y_j = y[j]\n",
    "\n",
    "        predictions_j = hypothesis(x_j,theta)\n",
    "        error_j = predictions_j - y_j\n",
    "        gradient_j = error_j * x_j\n",
    "        theta -= alpha * gradient_j.flatten()\n",
    "\n",
    "    predictions = hypothesis(X_bias, theta)\n",
    "    mse = MSE(predictions, y)\n",
    "    \n",
    "    # Print progress every 10 iterations\n",
    "    if i % 10 == 0 or i == 1:\n",
    "        print(f\"Iteration {i}: MSE = {np.round(mse,4)}, Theta = {np.round(theta,4)}\")\n",
    "    \n"
   ]
  },
  {
   "cell_type": "code",
   "execution_count": 23,
   "metadata": {},
   "outputs": [
    {
     "name": "stdout",
     "output_type": "stream",
     "text": [
      "[-0.1541  0.0941 -0.4721  0.1906]\n"
     ]
    }
   ],
   "source": [
    "#Normal equation\n",
    "normal = np.linalg.inv(X_bias.T @ X_bias) @ X_bias.T @ y\n",
    "print(np.round(normal,4))"
   ]
  }
 ],
 "metadata": {
  "kernelspec": {
   "display_name": "base",
   "language": "python",
   "name": "python3"
  },
  "language_info": {
   "codemirror_mode": {
    "name": "ipython",
    "version": 3
   },
   "file_extension": ".py",
   "mimetype": "text/x-python",
   "name": "python",
   "nbconvert_exporter": "python",
   "pygments_lexer": "ipython3",
   "version": "3.12.7"
  }
 },
 "nbformat": 4,
 "nbformat_minor": 2
}
