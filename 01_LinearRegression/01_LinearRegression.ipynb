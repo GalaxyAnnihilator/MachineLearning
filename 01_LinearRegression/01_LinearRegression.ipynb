{
 "cells": [
  {
   "cell_type": "code",
   "execution_count": 13,
   "metadata": {},
   "outputs": [],
   "source": [
    "import numpy as np\n",
    "#Dataset\n",
    "X = np.array([\n",
    "    [1,30],\n",
    "    [1,43],\n",
    "    [1,25],\n",
    "    [1,51],\n",
    "    [1,40],\n",
    "    [1,20]\n",
    "              ])\n",
    "y = np.array([2.5, 3.4, 1.8, 4.5, 3.2, 1.6],dtype=float)\n",
    "\n",
    "m = len(y)\n",
    "alpha = 0.001"
   ]
  },
  {
   "cell_type": "code",
   "execution_count": 14,
   "metadata": {},
   "outputs": [
    {
     "name": "stdout",
     "output_type": "stream",
     "text": [
      "Iteration 1: MSE = 4.5083, theta = [0.0028 0.1093]\n",
      "Iteration 2: MSE = 0.5053, theta = [0.0019 0.0732]\n",
      "Iteration 3: MSE = 0.0691, theta = [0.0021 0.0851]\n",
      "Iteration 4: MSE = 0.0216, theta = [0.002  0.0812]\n",
      "Iteration 10: MSE = 0.0158, theta = [0.0018 0.0822]\n",
      "Iteration 20: MSE = 0.0158, theta = [0.0015 0.0822]\n",
      "Iteration 30: MSE = 0.0158, theta = [0.0012 0.0822]\n",
      "Iteration 40: MSE = 0.0158, theta = [0.0009 0.0822]\n",
      "Iteration 50: MSE = 0.0157, theta = [0.0006 0.0822]\n",
      "Iteration 60: MSE = 0.0157, theta = [0.0003 0.0822]\n",
      "Iteration 70: MSE = 0.0157, theta = [0.     0.0822]\n",
      "Iteration 80: MSE = 0.0157, theta = [-0.0003  0.0822]\n",
      "Iteration 90: MSE = 0.0157, theta = [-0.0006  0.0822]\n",
      "Iteration 100: MSE = 0.0157, theta = [-0.0009  0.0822]\n"
     ]
    }
   ],
   "source": [
    "#Batch Gradient Descent\n",
    "theta = np.array([0,0],dtype=float)\n",
    "# X_bias = np.hstack((np.ones((m,1)),X))\n",
    "X_bias = X\n",
    "\n",
    "def MSE(predictions,y):\n",
    "    return (1/(2*m)) * np.sum((predictions-y)**2)\n",
    "\n",
    "def hypothesis(X,theta):\n",
    "    return X @ theta\n",
    "\n",
    "iterations = 100\n",
    "for i in range(1,iterations+1):\n",
    "    predictions = hypothesis(X_bias,theta)\n",
    "    errors = predictions - y\n",
    "    gradient = 1/m * (errors @ X_bias)\n",
    "    theta -= alpha * gradient\n",
    "\n",
    "    if i%10==0 or i<5:\n",
    "        print(f\"Iteration {i}: MSE = {np.round(MSE(predictions,y),4)}, theta = {np.round(theta,4)}\")\n"
   ]
  },
  {
   "cell_type": "code",
   "execution_count": 15,
   "metadata": {},
   "outputs": [
    {
     "ename": "ValueError",
     "evalue": "matmul: Input operand 1 has a mismatch in its core dimension 0, with gufunc signature (n?,k),(k,m?)->(n?,m?) (size 4 is different from 3)",
     "output_type": "error",
     "traceback": [
      "\u001b[0;31m---------------------------------------------------------------------------\u001b[0m",
      "\u001b[0;31mValueError\u001b[0m                                Traceback (most recent call last)",
      "Cell \u001b[0;32mIn[15], line 17\u001b[0m\n\u001b[1;32m     14\u001b[0m x_j \u001b[38;5;241m=\u001b[39m X_bias[j,:]\u001b[38;5;241m.\u001b[39mreshape(\u001b[38;5;241m1\u001b[39m,\u001b[38;5;241m-\u001b[39m\u001b[38;5;241m1\u001b[39m)\n\u001b[1;32m     15\u001b[0m y_j \u001b[38;5;241m=\u001b[39m y[j]\n\u001b[0;32m---> 17\u001b[0m predictions_j \u001b[38;5;241m=\u001b[39m \u001b[43mhypothesis\u001b[49m\u001b[43m(\u001b[49m\u001b[43mx_j\u001b[49m\u001b[43m,\u001b[49m\u001b[43mtheta\u001b[49m\u001b[43m)\u001b[49m\n\u001b[1;32m     18\u001b[0m error_j \u001b[38;5;241m=\u001b[39m predictions_j \u001b[38;5;241m-\u001b[39m y_j\n\u001b[1;32m     19\u001b[0m gradient_j \u001b[38;5;241m=\u001b[39m error_j \u001b[38;5;241m*\u001b[39m x_j\n",
      "Cell \u001b[0;32mIn[15], line 9\u001b[0m, in \u001b[0;36mhypothesis\u001b[0;34m(X, theta)\u001b[0m\n\u001b[1;32m      8\u001b[0m \u001b[38;5;28;01mdef\u001b[39;00m \u001b[38;5;21mhypothesis\u001b[39m(X,theta):\n\u001b[0;32m----> 9\u001b[0m     \u001b[38;5;28;01mreturn\u001b[39;00m \u001b[43mX\u001b[49m\u001b[43m \u001b[49m\u001b[38;5;241;43m@\u001b[39;49m\u001b[43m \u001b[49m\u001b[43mtheta\u001b[49m\n",
      "\u001b[0;31mValueError\u001b[0m: matmul: Input operand 1 has a mismatch in its core dimension 0, with gufunc signature (n?,k),(k,m?)->(n?,m?) (size 4 is different from 3)"
     ]
    }
   ],
   "source": [
    "#Stochastic - SGD\n",
    "theta = np.array([0,0,0,0],dtype=float)\n",
    "X_bias = np.hstack((np.ones((m,1)),X))\n",
    "\n",
    "def MSE(predictions,y):\n",
    "    return (1/(2*m)) * np.sum((predictions-y)**2)\n",
    "\n",
    "def hypothesis(X,theta):\n",
    "    return X @ theta\n",
    "\n",
    "iterations = 100\n",
    "for i in range(1,iterations+1):\n",
    "    for j in range(m):\n",
    "        x_j = X_bias[j,:].reshape(1,-1)\n",
    "        y_j = y[j]\n",
    "\n",
    "        predictions_j = hypothesis(x_j,theta)\n",
    "        error_j = predictions_j - y_j\n",
    "        gradient_j = error_j * x_j\n",
    "        theta -= alpha * gradient_j.flatten()\n",
    "\n",
    "    predictions = hypothesis(X_bias, theta)\n",
    "    mse = MSE(predictions, y)\n",
    "    \n",
    "    # Print progress every 10 iterations\n",
    "    if i % 10 == 0 or i == 1:\n",
    "        print(f\"Iteration {i}: MSE = {np.round(mse,4)}, Theta = {np.round(theta,4)}\")\n",
    "    \n"
   ]
  },
  {
   "cell_type": "code",
   "execution_count": 131,
   "metadata": {},
   "outputs": [
    {
     "name": "stdout",
     "output_type": "stream",
     "text": [
      "[-0.1541  0.0941 -0.4721  0.1906]\n"
     ]
    }
   ],
   "source": [
    "#Normal equation\n",
    "normal = np.linalg.inv(X_bias.T @ X_bias) @ X_bias.T @ y\n",
    "print(np.round(normal,4))"
   ]
  }
 ],
 "metadata": {
  "kernelspec": {
   "display_name": "base",
   "language": "python",
   "name": "python3"
  },
  "language_info": {
   "codemirror_mode": {
    "name": "ipython",
    "version": 3
   },
   "file_extension": ".py",
   "mimetype": "text/x-python",
   "name": "python",
   "nbconvert_exporter": "python",
   "pygments_lexer": "ipython3",
   "version": "3.12.7"
  }
 },
 "nbformat": 4,
 "nbformat_minor": 2
}
